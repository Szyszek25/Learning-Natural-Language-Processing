{
 "cells": [
  {
   "cell_type": "markdown",
   "id": "41cbcdb7",
   "metadata": {},
   "source": [
    "# Text preprocessing"
   ]
  },
  {
   "cell_type": "markdown",
   "id": "230a2e64",
   "metadata": {},
   "source": [
    "# 0. Create Data sets"
   ]
  },
  {
   "cell_type": "code",
   "execution_count": 3,
   "id": "ca209248",
   "metadata": {},
   "outputs": [],
   "source": [
    "import pandas as pd"
   ]
  },
  {
   "cell_type": "code",
   "execution_count": 4,
   "id": "f0b7b426",
   "metadata": {},
   "outputs": [],
   "source": [
    "data = [\n",
    "    \"When life gives you lemons, make lemonade! 🙂\",\n",
    "    \"She bought 2 lemons for $1 at Maven Market.\",\n",
    "    \"A dozen lemons will make a gallon of lemonade. [AllRecipes]\",\n",
    "    \"lemon, lemon, lemons, lemon, lemon, lemons\",\n",
    "    \"He's running to the market to get a lemon — there's a great sale today.\",\n",
    "    \"Does Maven Market carry Eureka lemons or Meyer lemons?\",\n",
    "    \"An Arnold Palmer is half lemonade, half iced tea. [Wikipedia]\",\n",
    "    \"iced tea is my favorite\"\n",
    "]"
   ]
  },
  {
   "cell_type": "code",
   "execution_count": 5,
   "id": "67c76a75",
   "metadata": {},
   "outputs": [],
   "source": [
    "pd.set_option('display.max_colwidth', None)\n"
   ]
  },
  {
   "cell_type": "code",
   "execution_count": 6,
   "id": "f2624a63",
   "metadata": {},
   "outputs": [
    {
     "data": {
      "text/plain": [
       "['When life gives you lemons, make lemonade! 🙂',\n",
       " 'She bought 2 lemons for $1 at Maven Market.',\n",
       " 'A dozen lemons will make a gallon of lemonade. [AllRecipes]',\n",
       " 'lemon, lemon, lemons, lemon, lemon, lemons',\n",
       " \"He's running to the market to get a lemon — there's a great sale today.\",\n",
       " 'Does Maven Market carry Eureka lemons or Meyer lemons?',\n",
       " 'An Arnold Palmer is half lemonade, half iced tea. [Wikipedia]',\n",
       " 'iced tea is my favorite']"
      ]
     },
     "execution_count": 6,
     "metadata": {},
     "output_type": "execute_result"
    }
   ],
   "source": [
    "data"
   ]
  },
  {
   "cell_type": "code",
   "execution_count": 7,
   "id": "c1f6ce9c",
   "metadata": {},
   "outputs": [],
   "source": [
    "data_df=pd.DataFrame(data, columns=['sentence'])"
   ]
  },
  {
   "cell_type": "code",
   "execution_count": 8,
   "id": "078bb5ec",
   "metadata": {},
   "outputs": [
    {
     "data": {
      "text/html": [
       "<div>\n",
       "<style scoped>\n",
       "    .dataframe tbody tr th:only-of-type {\n",
       "        vertical-align: middle;\n",
       "    }\n",
       "\n",
       "    .dataframe tbody tr th {\n",
       "        vertical-align: top;\n",
       "    }\n",
       "\n",
       "    .dataframe thead th {\n",
       "        text-align: right;\n",
       "    }\n",
       "</style>\n",
       "<table border=\"1\" class=\"dataframe\">\n",
       "  <thead>\n",
       "    <tr style=\"text-align: right;\">\n",
       "      <th></th>\n",
       "      <th>sentence</th>\n",
       "    </tr>\n",
       "  </thead>\n",
       "  <tbody>\n",
       "    <tr>\n",
       "      <th>0</th>\n",
       "      <td>When life gives you lemons, make lemonade! 🙂</td>\n",
       "    </tr>\n",
       "    <tr>\n",
       "      <th>1</th>\n",
       "      <td>She bought 2 lemons for $1 at Maven Market.</td>\n",
       "    </tr>\n",
       "    <tr>\n",
       "      <th>2</th>\n",
       "      <td>A dozen lemons will make a gallon of lemonade. [AllRecipes]</td>\n",
       "    </tr>\n",
       "    <tr>\n",
       "      <th>3</th>\n",
       "      <td>lemon, lemon, lemons, lemon, lemon, lemons</td>\n",
       "    </tr>\n",
       "    <tr>\n",
       "      <th>4</th>\n",
       "      <td>He's running to the market to get a lemon — there's a great sale today.</td>\n",
       "    </tr>\n",
       "    <tr>\n",
       "      <th>5</th>\n",
       "      <td>Does Maven Market carry Eureka lemons or Meyer lemons?</td>\n",
       "    </tr>\n",
       "    <tr>\n",
       "      <th>6</th>\n",
       "      <td>An Arnold Palmer is half lemonade, half iced tea. [Wikipedia]</td>\n",
       "    </tr>\n",
       "    <tr>\n",
       "      <th>7</th>\n",
       "      <td>iced tea is my favorite</td>\n",
       "    </tr>\n",
       "  </tbody>\n",
       "</table>\n",
       "</div>"
      ],
      "text/plain": [
       "                                                                  sentence\n",
       "0                             When life gives you lemons, make lemonade! 🙂\n",
       "1                              She bought 2 lemons for $1 at Maven Market.\n",
       "2              A dozen lemons will make a gallon of lemonade. [AllRecipes]\n",
       "3                               lemon, lemon, lemons, lemon, lemon, lemons\n",
       "4  He's running to the market to get a lemon — there's a great sale today.\n",
       "5                   Does Maven Market carry Eureka lemons or Meyer lemons?\n",
       "6            An Arnold Palmer is half lemonade, half iced tea. [Wikipedia]\n",
       "7                                                  iced tea is my favorite"
      ]
     },
     "execution_count": 8,
     "metadata": {},
     "output_type": "execute_result"
    }
   ],
   "source": [
    "data_df"
   ]
  },
  {
   "cell_type": "code",
   "execution_count": 9,
   "id": "71d2392b",
   "metadata": {},
   "outputs": [
    {
     "data": {
      "text/plain": [
       "0    We're going to start this course with traditional NLP applications.\n",
       "1                               Then we'll move on to modern NLP theory.\n",
       "2            Finally, we'll wrap things up with modern NLP applications.\n",
       "dtype: object"
      ]
     },
     "execution_count": 9,
     "metadata": {},
     "output_type": "execute_result"
    }
   ],
   "source": [
    "test = [\n",
    "    \"We're going to start this course with traditional NLP applications.\",\n",
    "    \"Then we'll move on to modern NLP theory.\",\n",
    "    \"Finally, we'll wrap things up with modern NLP applications.\"\n",
    "]\n",
    "\n",
    "test_series=pd.Series(test)\n",
    "test_series"
   ]
  },
  {
   "cell_type": "code",
   "execution_count": 10,
   "id": "be9dd62b",
   "metadata": {},
   "outputs": [
    {
     "data": {
      "text/html": [
       "<div>\n",
       "<style scoped>\n",
       "    .dataframe tbody tr th:only-of-type {\n",
       "        vertical-align: middle;\n",
       "    }\n",
       "\n",
       "    .dataframe tbody tr th {\n",
       "        vertical-align: top;\n",
       "    }\n",
       "\n",
       "    .dataframe thead th {\n",
       "        text-align: right;\n",
       "    }\n",
       "</style>\n",
       "<table border=\"1\" class=\"dataframe\">\n",
       "  <thead>\n",
       "    <tr style=\"text-align: right;\">\n",
       "      <th></th>\n",
       "      <th>sentence</th>\n",
       "    </tr>\n",
       "  </thead>\n",
       "  <tbody>\n",
       "    <tr>\n",
       "      <th>0</th>\n",
       "      <td>We're going to start this course with traditional NLP applications.</td>\n",
       "    </tr>\n",
       "    <tr>\n",
       "      <th>1</th>\n",
       "      <td>Then we'll move on to modern NLP theory.</td>\n",
       "    </tr>\n",
       "    <tr>\n",
       "      <th>2</th>\n",
       "      <td>Finally, we'll wrap things up with modern NLP applications.</td>\n",
       "    </tr>\n",
       "  </tbody>\n",
       "</table>\n",
       "</div>"
      ],
      "text/plain": [
       "                                                              sentence\n",
       "0  We're going to start this course with traditional NLP applications.\n",
       "1                             Then we'll move on to modern NLP theory.\n",
       "2          Finally, we'll wrap things up with modern NLP applications."
      ]
     },
     "execution_count": 10,
     "metadata": {},
     "output_type": "execute_result"
    }
   ],
   "source": [
    "test_series_df=pd.DataFrame(test_series, columns=['sentence'])\n",
    "test_series_df"
   ]
  },
  {
   "cell_type": "markdown",
   "id": "b8eac8fa",
   "metadata": {},
   "source": [
    "# Text preprocessing with pandas"
   ]
  },
  {
   "cell_type": "code",
   "execution_count": 11,
   "id": "b1b2a217",
   "metadata": {},
   "outputs": [
    {
     "data": {
      "text/html": [
       "<div>\n",
       "<style scoped>\n",
       "    .dataframe tbody tr th:only-of-type {\n",
       "        vertical-align: middle;\n",
       "    }\n",
       "\n",
       "    .dataframe tbody tr th {\n",
       "        vertical-align: top;\n",
       "    }\n",
       "\n",
       "    .dataframe thead th {\n",
       "        text-align: right;\n",
       "    }\n",
       "</style>\n",
       "<table border=\"1\" class=\"dataframe\">\n",
       "  <thead>\n",
       "    <tr style=\"text-align: right;\">\n",
       "      <th></th>\n",
       "      <th>sentence</th>\n",
       "    </tr>\n",
       "  </thead>\n",
       "  <tbody>\n",
       "    <tr>\n",
       "      <th>0</th>\n",
       "      <td>When life gives you lemons, make lemonade! 🙂</td>\n",
       "    </tr>\n",
       "    <tr>\n",
       "      <th>1</th>\n",
       "      <td>She bought 2 lemons for $1 at Maven Market.</td>\n",
       "    </tr>\n",
       "    <tr>\n",
       "      <th>2</th>\n",
       "      <td>A dozen lemons will make a gallon of lemonade. [AllRecipes]</td>\n",
       "    </tr>\n",
       "    <tr>\n",
       "      <th>3</th>\n",
       "      <td>lemon, lemon, lemons, lemon, lemon, lemons</td>\n",
       "    </tr>\n",
       "    <tr>\n",
       "      <th>4</th>\n",
       "      <td>He's running to the market to get a lemon — there's a great sale today.</td>\n",
       "    </tr>\n",
       "    <tr>\n",
       "      <th>5</th>\n",
       "      <td>Does Maven Market carry Eureka lemons or Meyer lemons?</td>\n",
       "    </tr>\n",
       "    <tr>\n",
       "      <th>6</th>\n",
       "      <td>An Arnold Palmer is half lemonade, half iced tea. [Wikipedia]</td>\n",
       "    </tr>\n",
       "    <tr>\n",
       "      <th>7</th>\n",
       "      <td>iced tea is my favorite</td>\n",
       "    </tr>\n",
       "  </tbody>\n",
       "</table>\n",
       "</div>"
      ],
      "text/plain": [
       "                                                                  sentence\n",
       "0                             When life gives you lemons, make lemonade! 🙂\n",
       "1                              She bought 2 lemons for $1 at Maven Market.\n",
       "2              A dozen lemons will make a gallon of lemonade. [AllRecipes]\n",
       "3                               lemon, lemon, lemons, lemon, lemon, lemons\n",
       "4  He's running to the market to get a lemon — there's a great sale today.\n",
       "5                   Does Maven Market carry Eureka lemons or Meyer lemons?\n",
       "6            An Arnold Palmer is half lemonade, half iced tea. [Wikipedia]\n",
       "7                                                  iced tea is my favorite"
      ]
     },
     "execution_count": 11,
     "metadata": {},
     "output_type": "execute_result"
    }
   ],
   "source": [
    "data_df"
   ]
  },
  {
   "cell_type": "code",
   "execution_count": 12,
   "id": "dccb9c99",
   "metadata": {},
   "outputs": [
    {
     "data": {
      "text/html": [
       "<div>\n",
       "<style scoped>\n",
       "    .dataframe tbody tr th:only-of-type {\n",
       "        vertical-align: middle;\n",
       "    }\n",
       "\n",
       "    .dataframe tbody tr th {\n",
       "        vertical-align: top;\n",
       "    }\n",
       "\n",
       "    .dataframe thead th {\n",
       "        text-align: right;\n",
       "    }\n",
       "</style>\n",
       "<table border=\"1\" class=\"dataframe\">\n",
       "  <thead>\n",
       "    <tr style=\"text-align: right;\">\n",
       "      <th></th>\n",
       "      <th>sentence</th>\n",
       "    </tr>\n",
       "  </thead>\n",
       "  <tbody>\n",
       "    <tr>\n",
       "      <th>0</th>\n",
       "      <td>When life gives you lemons, make lemonade! 🙂</td>\n",
       "    </tr>\n",
       "    <tr>\n",
       "      <th>1</th>\n",
       "      <td>She bought 2 lemons for $1 at Maven Market.</td>\n",
       "    </tr>\n",
       "    <tr>\n",
       "      <th>2</th>\n",
       "      <td>A dozen lemons will make a gallon of lemonade. [AllRecipes]</td>\n",
       "    </tr>\n",
       "    <tr>\n",
       "      <th>3</th>\n",
       "      <td>lemon, lemon, lemons, lemon, lemon, lemons</td>\n",
       "    </tr>\n",
       "    <tr>\n",
       "      <th>4</th>\n",
       "      <td>He's running to the market to get a lemon — there's a great sale today.</td>\n",
       "    </tr>\n",
       "    <tr>\n",
       "      <th>5</th>\n",
       "      <td>Does Maven Market carry Eureka lemons or Meyer lemons?</td>\n",
       "    </tr>\n",
       "    <tr>\n",
       "      <th>6</th>\n",
       "      <td>An Arnold Palmer is half lemonade, half iced tea. [Wikipedia]</td>\n",
       "    </tr>\n",
       "    <tr>\n",
       "      <th>7</th>\n",
       "      <td>iced tea is my favorite</td>\n",
       "    </tr>\n",
       "  </tbody>\n",
       "</table>\n",
       "</div>"
      ],
      "text/plain": [
       "                                                                  sentence\n",
       "0                             When life gives you lemons, make lemonade! 🙂\n",
       "1                              She bought 2 lemons for $1 at Maven Market.\n",
       "2              A dozen lemons will make a gallon of lemonade. [AllRecipes]\n",
       "3                               lemon, lemon, lemons, lemon, lemon, lemons\n",
       "4  He's running to the market to get a lemon — there's a great sale today.\n",
       "5                   Does Maven Market carry Eureka lemons or Meyer lemons?\n",
       "6            An Arnold Palmer is half lemonade, half iced tea. [Wikipedia]\n",
       "7                                                  iced tea is my favorite"
      ]
     },
     "execution_count": 12,
     "metadata": {},
     "output_type": "execute_result"
    }
   ],
   "source": [
    "df=data_df.copy()\n",
    "df"
   ]
  },
  {
   "cell_type": "code",
   "execution_count": 13,
   "id": "147220ce",
   "metadata": {},
   "outputs": [],
   "source": [
    "# lowercalse\n",
    "\n",
    "df['sentence_clean']=df['sentence'].str.lower()"
   ]
  },
  {
   "cell_type": "code",
   "execution_count": 14,
   "id": "aeb19039",
   "metadata": {},
   "outputs": [
    {
     "data": {
      "text/html": [
       "<div>\n",
       "<style scoped>\n",
       "    .dataframe tbody tr th:only-of-type {\n",
       "        vertical-align: middle;\n",
       "    }\n",
       "\n",
       "    .dataframe tbody tr th {\n",
       "        vertical-align: top;\n",
       "    }\n",
       "\n",
       "    .dataframe thead th {\n",
       "        text-align: right;\n",
       "    }\n",
       "</style>\n",
       "<table border=\"1\" class=\"dataframe\">\n",
       "  <thead>\n",
       "    <tr style=\"text-align: right;\">\n",
       "      <th></th>\n",
       "      <th>sentence</th>\n",
       "      <th>sentence_clean</th>\n",
       "    </tr>\n",
       "  </thead>\n",
       "  <tbody>\n",
       "    <tr>\n",
       "      <th>0</th>\n",
       "      <td>When life gives you lemons, make lemonade! 🙂</td>\n",
       "      <td>when life gives you lemons, make lemonade! 🙂</td>\n",
       "    </tr>\n",
       "    <tr>\n",
       "      <th>1</th>\n",
       "      <td>She bought 2 lemons for $1 at Maven Market.</td>\n",
       "      <td>she bought 2 lemons for $1 at maven market.</td>\n",
       "    </tr>\n",
       "    <tr>\n",
       "      <th>2</th>\n",
       "      <td>A dozen lemons will make a gallon of lemonade. [AllRecipes]</td>\n",
       "      <td>a dozen lemons will make a gallon of lemonade. [allrecipes]</td>\n",
       "    </tr>\n",
       "    <tr>\n",
       "      <th>3</th>\n",
       "      <td>lemon, lemon, lemons, lemon, lemon, lemons</td>\n",
       "      <td>lemon, lemon, lemons, lemon, lemon, lemons</td>\n",
       "    </tr>\n",
       "    <tr>\n",
       "      <th>4</th>\n",
       "      <td>He's running to the market to get a lemon — there's a great sale today.</td>\n",
       "      <td>he's running to the market to get a lemon — there's a great sale today.</td>\n",
       "    </tr>\n",
       "    <tr>\n",
       "      <th>5</th>\n",
       "      <td>Does Maven Market carry Eureka lemons or Meyer lemons?</td>\n",
       "      <td>does maven market carry eureka lemons or meyer lemons?</td>\n",
       "    </tr>\n",
       "    <tr>\n",
       "      <th>6</th>\n",
       "      <td>An Arnold Palmer is half lemonade, half iced tea. [Wikipedia]</td>\n",
       "      <td>an arnold palmer is half lemonade, half iced tea. [wikipedia]</td>\n",
       "    </tr>\n",
       "    <tr>\n",
       "      <th>7</th>\n",
       "      <td>iced tea is my favorite</td>\n",
       "      <td>iced tea is my favorite</td>\n",
       "    </tr>\n",
       "  </tbody>\n",
       "</table>\n",
       "</div>"
      ],
      "text/plain": [
       "                                                                  sentence  \\\n",
       "0                             When life gives you lemons, make lemonade! 🙂   \n",
       "1                              She bought 2 lemons for $1 at Maven Market.   \n",
       "2              A dozen lemons will make a gallon of lemonade. [AllRecipes]   \n",
       "3                               lemon, lemon, lemons, lemon, lemon, lemons   \n",
       "4  He's running to the market to get a lemon — there's a great sale today.   \n",
       "5                   Does Maven Market carry Eureka lemons or Meyer lemons?   \n",
       "6            An Arnold Palmer is half lemonade, half iced tea. [Wikipedia]   \n",
       "7                                                  iced tea is my favorite   \n",
       "\n",
       "                                                            sentence_clean  \n",
       "0                             when life gives you lemons, make lemonade! 🙂  \n",
       "1                              she bought 2 lemons for $1 at maven market.  \n",
       "2              a dozen lemons will make a gallon of lemonade. [allrecipes]  \n",
       "3                               lemon, lemon, lemons, lemon, lemon, lemons  \n",
       "4  he's running to the market to get a lemon — there's a great sale today.  \n",
       "5                   does maven market carry eureka lemons or meyer lemons?  \n",
       "6            an arnold palmer is half lemonade, half iced tea. [wikipedia]  \n",
       "7                                                  iced tea is my favorite  "
      ]
     },
     "execution_count": 14,
     "metadata": {},
     "output_type": "execute_result"
    }
   ],
   "source": [
    "df"
   ]
  },
  {
   "cell_type": "markdown",
   "id": "9e52b5ba",
   "metadata": {},
   "source": [
    "# remove square brackets []"
   ]
  },
  {
   "cell_type": "code",
   "execution_count": 15,
   "id": "0a457d6d",
   "metadata": {},
   "outputs": [
    {
     "data": {
      "text/html": [
       "<div>\n",
       "<style scoped>\n",
       "    .dataframe tbody tr th:only-of-type {\n",
       "        vertical-align: middle;\n",
       "    }\n",
       "\n",
       "    .dataframe tbody tr th {\n",
       "        vertical-align: top;\n",
       "    }\n",
       "\n",
       "    .dataframe thead th {\n",
       "        text-align: right;\n",
       "    }\n",
       "</style>\n",
       "<table border=\"1\" class=\"dataframe\">\n",
       "  <thead>\n",
       "    <tr style=\"text-align: right;\">\n",
       "      <th></th>\n",
       "      <th>sentence</th>\n",
       "      <th>sentence_clean</th>\n",
       "    </tr>\n",
       "  </thead>\n",
       "  <tbody>\n",
       "    <tr>\n",
       "      <th>0</th>\n",
       "      <td>When life gives you lemons, make lemonade! 🙂</td>\n",
       "      <td>when life gives you lemons, make lemonade! 🙂</td>\n",
       "    </tr>\n",
       "    <tr>\n",
       "      <th>1</th>\n",
       "      <td>She bought 2 lemons for $1 at Maven Market.</td>\n",
       "      <td>she bought 2 lemons for $1 at maven market.</td>\n",
       "    </tr>\n",
       "    <tr>\n",
       "      <th>2</th>\n",
       "      <td>A dozen lemons will make a gallon of lemonade. [AllRecipes]</td>\n",
       "      <td>a dozen lemons will make a gallon of lemonade.</td>\n",
       "    </tr>\n",
       "    <tr>\n",
       "      <th>3</th>\n",
       "      <td>lemon, lemon, lemons, lemon, lemon, lemons</td>\n",
       "      <td>lemon, lemon, lemons, lemon, lemon, lemons</td>\n",
       "    </tr>\n",
       "    <tr>\n",
       "      <th>4</th>\n",
       "      <td>He's running to the market to get a lemon — there's a great sale today.</td>\n",
       "      <td>he's running to the market to get a lemon — there's a great sale today.</td>\n",
       "    </tr>\n",
       "    <tr>\n",
       "      <th>5</th>\n",
       "      <td>Does Maven Market carry Eureka lemons or Meyer lemons?</td>\n",
       "      <td>does maven market carry eureka lemons or meyer lemons?</td>\n",
       "    </tr>\n",
       "    <tr>\n",
       "      <th>6</th>\n",
       "      <td>An Arnold Palmer is half lemonade, half iced tea. [Wikipedia]</td>\n",
       "      <td>an arnold palmer is half lemonade, half iced tea.</td>\n",
       "    </tr>\n",
       "    <tr>\n",
       "      <th>7</th>\n",
       "      <td>iced tea is my favorite</td>\n",
       "      <td>iced tea is my favorite</td>\n",
       "    </tr>\n",
       "  </tbody>\n",
       "</table>\n",
       "</div>"
      ],
      "text/plain": [
       "                                                                  sentence  \\\n",
       "0                             When life gives you lemons, make lemonade! 🙂   \n",
       "1                              She bought 2 lemons for $1 at Maven Market.   \n",
       "2              A dozen lemons will make a gallon of lemonade. [AllRecipes]   \n",
       "3                               lemon, lemon, lemons, lemon, lemon, lemons   \n",
       "4  He's running to the market to get a lemon — there's a great sale today.   \n",
       "5                   Does Maven Market carry Eureka lemons or Meyer lemons?   \n",
       "6            An Arnold Palmer is half lemonade, half iced tea. [Wikipedia]   \n",
       "7                                                  iced tea is my favorite   \n",
       "\n",
       "                                                            sentence_clean  \n",
       "0                             when life gives you lemons, make lemonade! 🙂  \n",
       "1                              she bought 2 lemons for $1 at maven market.  \n",
       "2                          a dozen lemons will make a gallon of lemonade.   \n",
       "3                               lemon, lemon, lemons, lemon, lemon, lemons  \n",
       "4  he's running to the market to get a lemon — there's a great sale today.  \n",
       "5                   does maven market carry eureka lemons or meyer lemons?  \n",
       "6                       an arnold palmer is half lemonade, half iced tea.   \n",
       "7                                                  iced tea is my favorite  "
      ]
     },
     "execution_count": 15,
     "metadata": {},
     "output_type": "execute_result"
    }
   ],
   "source": [
    "df['sentence_clean']=df['sentence_clean'].str.replace(r'\\[.*?\\]','',regex=True) # after '\\' remove text in brackets and before '\\' removes text in brackets\n",
    "df"
   ]
  },
  {
   "cell_type": "code",
   "execution_count": 16,
   "id": "471b3e02",
   "metadata": {},
   "outputs": [
    {
     "data": {
      "text/html": [
       "<div>\n",
       "<style scoped>\n",
       "    .dataframe tbody tr th:only-of-type {\n",
       "        vertical-align: middle;\n",
       "    }\n",
       "\n",
       "    .dataframe tbody tr th {\n",
       "        vertical-align: top;\n",
       "    }\n",
       "\n",
       "    .dataframe thead th {\n",
       "        text-align: right;\n",
       "    }\n",
       "</style>\n",
       "<table border=\"1\" class=\"dataframe\">\n",
       "  <thead>\n",
       "    <tr style=\"text-align: right;\">\n",
       "      <th></th>\n",
       "      <th>sentence</th>\n",
       "      <th>sentence_clean</th>\n",
       "    </tr>\n",
       "  </thead>\n",
       "  <tbody>\n",
       "    <tr>\n",
       "      <th>0</th>\n",
       "      <td>When life gives you lemons, make lemonade! 🙂</td>\n",
       "      <td>when life gives you lemons make lemonade</td>\n",
       "    </tr>\n",
       "    <tr>\n",
       "      <th>1</th>\n",
       "      <td>She bought 2 lemons for $1 at Maven Market.</td>\n",
       "      <td>she bought 2 lemons for 1 at maven market</td>\n",
       "    </tr>\n",
       "    <tr>\n",
       "      <th>2</th>\n",
       "      <td>A dozen lemons will make a gallon of lemonade. [AllRecipes]</td>\n",
       "      <td>a dozen lemons will make a gallon of lemonade</td>\n",
       "    </tr>\n",
       "    <tr>\n",
       "      <th>3</th>\n",
       "      <td>lemon, lemon, lemons, lemon, lemon, lemons</td>\n",
       "      <td>lemon lemon lemons lemon lemon lemons</td>\n",
       "    </tr>\n",
       "    <tr>\n",
       "      <th>4</th>\n",
       "      <td>He's running to the market to get a lemon — there's a great sale today.</td>\n",
       "      <td>hes running to the market to get a lemon  theres a great sale today</td>\n",
       "    </tr>\n",
       "    <tr>\n",
       "      <th>5</th>\n",
       "      <td>Does Maven Market carry Eureka lemons or Meyer lemons?</td>\n",
       "      <td>does maven market carry eureka lemons or meyer lemons</td>\n",
       "    </tr>\n",
       "    <tr>\n",
       "      <th>6</th>\n",
       "      <td>An Arnold Palmer is half lemonade, half iced tea. [Wikipedia]</td>\n",
       "      <td>an arnold palmer is half lemonade half iced tea</td>\n",
       "    </tr>\n",
       "    <tr>\n",
       "      <th>7</th>\n",
       "      <td>iced tea is my favorite</td>\n",
       "      <td>iced tea is my favorite</td>\n",
       "    </tr>\n",
       "  </tbody>\n",
       "</table>\n",
       "</div>"
      ],
      "text/plain": [
       "                                                                  sentence  \\\n",
       "0                             When life gives you lemons, make lemonade! 🙂   \n",
       "1                              She bought 2 lemons for $1 at Maven Market.   \n",
       "2              A dozen lemons will make a gallon of lemonade. [AllRecipes]   \n",
       "3                               lemon, lemon, lemons, lemon, lemon, lemons   \n",
       "4  He's running to the market to get a lemon — there's a great sale today.   \n",
       "5                   Does Maven Market carry Eureka lemons or Meyer lemons?   \n",
       "6            An Arnold Palmer is half lemonade, half iced tea. [Wikipedia]   \n",
       "7                                                  iced tea is my favorite   \n",
       "\n",
       "                                                        sentence_clean  \n",
       "0                            when life gives you lemons make lemonade   \n",
       "1                            she bought 2 lemons for 1 at maven market  \n",
       "2                       a dozen lemons will make a gallon of lemonade   \n",
       "3                                lemon lemon lemons lemon lemon lemons  \n",
       "4  hes running to the market to get a lemon  theres a great sale today  \n",
       "5                does maven market carry eureka lemons or meyer lemons  \n",
       "6                     an arnold palmer is half lemonade half iced tea   \n",
       "7                                              iced tea is my favorite  "
      ]
     },
     "execution_count": 16,
     "metadata": {},
     "output_type": "execute_result"
    }
   ],
   "source": [
    "# remove punctuation\n",
    "df['sentence_clean']=df['sentence_clean'].str.replace(r'[^\\w\\s]','',regex=True) # ^ - not, \\w - word character, \\s - whitespace, spaces, tabs,newlines\n",
    "df"
   ]
  },
  {
   "cell_type": "code",
   "execution_count": 17,
   "id": "19b3b7bd",
   "metadata": {},
   "outputs": [],
   "source": [
    "df['sentence_clean']=df['sentence'].str.lower()\n",
    "df['sentence_clean']=df['sentence_clean'].str.replace(r'\\[.*?\\]','',regex=True) \n",
    "df['sentence_clean']=df['sentence_clean'].str.replace(r'[^\\w\\s]','',regex=True) "
   ]
  },
  {
   "cell_type": "code",
   "execution_count": 18,
   "id": "737b5c0d",
   "metadata": {},
   "outputs": [],
   "source": [
    "def lower_replace(series): #column of data #series=pd.Series(test) where test is column text, or series=df['sentence']\n",
    "    output=series.str.lower()\n",
    "    output=output.str.replace(r'\\[.*?\\]','',regex=True) \n",
    "    output=output.str.replace(r'[^\\w\\s]','',regex=True) \n",
    "    return output"
   ]
  },
  {
   "cell_type": "code",
   "execution_count": 19,
   "id": "15d6bd6b",
   "metadata": {},
   "outputs": [
    {
     "data": {
      "text/plain": [
       "0    We're going to start this course with traditional NLP applications.\n",
       "1                               Then we'll move on to modern NLP theory.\n",
       "2            Finally, we'll wrap things up with modern NLP applications.\n",
       "dtype: object"
      ]
     },
     "execution_count": 19,
     "metadata": {},
     "output_type": "execute_result"
    }
   ],
   "source": [
    "test_series"
   ]
  },
  {
   "cell_type": "code",
   "execution_count": 20,
   "id": "3ef584a4",
   "metadata": {},
   "outputs": [
    {
     "data": {
      "text/plain": [
       "0    were going to start this course with traditional nlp applications\n",
       "1                               then well move on to modern nlp theory\n",
       "2             finally well wrap things up with modern nlp applications\n",
       "dtype: object"
      ]
     },
     "execution_count": 20,
     "metadata": {},
     "output_type": "execute_result"
    }
   ],
   "source": [
    "lower_replace(test_series)"
   ]
  },
  {
   "cell_type": "code",
   "execution_count": 21,
   "id": "842ff4a4",
   "metadata": {},
   "outputs": [
    {
     "data": {
      "text/plain": [
       "0                              when life gives you lemons make lemonade \n",
       "1                              she bought 2 lemons for 1 at maven market\n",
       "2                         a dozen lemons will make a gallon of lemonade \n",
       "3                                  lemon lemon lemons lemon lemon lemons\n",
       "4    hes running to the market to get a lemon  theres a great sale today\n",
       "5                  does maven market carry eureka lemons or meyer lemons\n",
       "6                       an arnold palmer is half lemonade half iced tea \n",
       "7                                                iced tea is my favorite\n",
       "Name: sentence, dtype: object"
      ]
     },
     "execution_count": 21,
     "metadata": {},
     "output_type": "execute_result"
    }
   ],
   "source": [
    "lower_replace(df.sentence) #we have to specify series or column data"
   ]
  },
  {
   "cell_type": "markdown",
   "id": "c42e8508",
   "metadata": {},
   "source": [
    "# Lekcja 38. i dalej - tokens, lemmas, stop words"
   ]
  },
  {
   "cell_type": "code",
   "execution_count": 22,
   "id": "7f2a39d7",
   "metadata": {},
   "outputs": [
    {
     "data": {
      "text/html": [
       "<div>\n",
       "<style scoped>\n",
       "    .dataframe tbody tr th:only-of-type {\n",
       "        vertical-align: middle;\n",
       "    }\n",
       "\n",
       "    .dataframe tbody tr th {\n",
       "        vertical-align: top;\n",
       "    }\n",
       "\n",
       "    .dataframe thead th {\n",
       "        text-align: right;\n",
       "    }\n",
       "</style>\n",
       "<table border=\"1\" class=\"dataframe\">\n",
       "  <thead>\n",
       "    <tr style=\"text-align: right;\">\n",
       "      <th></th>\n",
       "      <th>sentence</th>\n",
       "      <th>sentence_clean</th>\n",
       "    </tr>\n",
       "  </thead>\n",
       "  <tbody>\n",
       "    <tr>\n",
       "      <th>0</th>\n",
       "      <td>When life gives you lemons, make lemonade! 🙂</td>\n",
       "      <td>when life gives you lemons make lemonade</td>\n",
       "    </tr>\n",
       "    <tr>\n",
       "      <th>1</th>\n",
       "      <td>She bought 2 lemons for $1 at Maven Market.</td>\n",
       "      <td>she bought 2 lemons for 1 at maven market</td>\n",
       "    </tr>\n",
       "    <tr>\n",
       "      <th>2</th>\n",
       "      <td>A dozen lemons will make a gallon of lemonade. [AllRecipes]</td>\n",
       "      <td>a dozen lemons will make a gallon of lemonade</td>\n",
       "    </tr>\n",
       "    <tr>\n",
       "      <th>3</th>\n",
       "      <td>lemon, lemon, lemons, lemon, lemon, lemons</td>\n",
       "      <td>lemon lemon lemons lemon lemon lemons</td>\n",
       "    </tr>\n",
       "    <tr>\n",
       "      <th>4</th>\n",
       "      <td>He's running to the market to get a lemon — there's a great sale today.</td>\n",
       "      <td>hes running to the market to get a lemon  theres a great sale today</td>\n",
       "    </tr>\n",
       "    <tr>\n",
       "      <th>5</th>\n",
       "      <td>Does Maven Market carry Eureka lemons or Meyer lemons?</td>\n",
       "      <td>does maven market carry eureka lemons or meyer lemons</td>\n",
       "    </tr>\n",
       "    <tr>\n",
       "      <th>6</th>\n",
       "      <td>An Arnold Palmer is half lemonade, half iced tea. [Wikipedia]</td>\n",
       "      <td>an arnold palmer is half lemonade half iced tea</td>\n",
       "    </tr>\n",
       "    <tr>\n",
       "      <th>7</th>\n",
       "      <td>iced tea is my favorite</td>\n",
       "      <td>iced tea is my favorite</td>\n",
       "    </tr>\n",
       "  </tbody>\n",
       "</table>\n",
       "</div>"
      ],
      "text/plain": [
       "                                                                  sentence  \\\n",
       "0                             When life gives you lemons, make lemonade! 🙂   \n",
       "1                              She bought 2 lemons for $1 at Maven Market.   \n",
       "2              A dozen lemons will make a gallon of lemonade. [AllRecipes]   \n",
       "3                               lemon, lemon, lemons, lemon, lemon, lemons   \n",
       "4  He's running to the market to get a lemon — there's a great sale today.   \n",
       "5                   Does Maven Market carry Eureka lemons or Meyer lemons?   \n",
       "6            An Arnold Palmer is half lemonade, half iced tea. [Wikipedia]   \n",
       "7                                                  iced tea is my favorite   \n",
       "\n",
       "                                                        sentence_clean  \n",
       "0                            when life gives you lemons make lemonade   \n",
       "1                            she bought 2 lemons for 1 at maven market  \n",
       "2                       a dozen lemons will make a gallon of lemonade   \n",
       "3                                lemon lemon lemons lemon lemon lemons  \n",
       "4  hes running to the market to get a lemon  theres a great sale today  \n",
       "5                does maven market carry eureka lemons or meyer lemons  \n",
       "6                     an arnold palmer is half lemonade half iced tea   \n",
       "7                                              iced tea is my favorite  "
      ]
     },
     "execution_count": 22,
     "metadata": {},
     "output_type": "execute_result"
    }
   ],
   "source": [
    "df"
   ]
  },
  {
   "cell_type": "code",
   "execution_count": 23,
   "id": "1e4bcd06",
   "metadata": {},
   "outputs": [
    {
     "data": {
      "text/plain": [
       "'when life gives you lemons make lemonade '"
      ]
     },
     "execution_count": 23,
     "metadata": {},
     "output_type": "execute_result"
    }
   ],
   "source": [
    "df.sentence_clean[0]"
   ]
  },
  {
   "cell_type": "code",
   "execution_count": 24,
   "id": "d9c4c95f",
   "metadata": {},
   "outputs": [
    {
     "name": "stdout",
     "output_type": "stream",
     "text": [
      "[('when', 'SCONJ'), ('life', 'NOUN'), ('gives', 'VERB'), ('you', 'PRON'), ('lemons', 'NOUN'), ('make', 'VERB'), ('lemonade', 'NOUN')]\n"
     ]
    }
   ],
   "source": [
    "import spacy\n",
    "nlp = spacy.load('en_core_web_sm')\n",
    "import en_core_web_sm\n",
    "nlp = en_core_web_sm.load()\n",
    "\n",
    "phrase=df.sentence_clean[0]\n",
    "doc=nlp(phrase) #obiekt spacy\n",
    "print([(token.text, token.pos_) for token in doc])"
   ]
  },
  {
   "cell_type": "code",
   "execution_count": 25,
   "id": "d8f52824",
   "metadata": {},
   "outputs": [
    {
     "data": {
      "text/plain": [
       "['when', 'life', 'gives', 'you', 'lemons', 'make', 'lemonade']"
      ]
     },
     "execution_count": 25,
     "metadata": {},
     "output_type": "execute_result"
    }
   ],
   "source": [
    "#1. tokenize\n",
    "[token.text for token in doc] #.text zwraca string"
   ]
  },
  {
   "cell_type": "code",
   "execution_count": 26,
   "id": "d258db9c",
   "metadata": {},
   "outputs": [
    {
     "data": {
      "text/plain": [
       "['when', 'life', 'give', 'you', 'lemon', 'make', 'lemonade']"
      ]
     },
     "execution_count": 26,
     "metadata": {},
     "output_type": "execute_result"
    }
   ],
   "source": [
    "#2. lematyzacja - zwraca podstawową formę\n",
    "[token.lemma_ for token in doc ]"
   ]
  },
  {
   "cell_type": "code",
   "execution_count": 27,
   "id": "abc9e5ac",
   "metadata": {},
   "outputs": [
    {
     "data": {
      "text/plain": [
       "['mostly',\n",
       " 'something',\n",
       " 'both',\n",
       " 'again',\n",
       " 'afterwards',\n",
       " 'regarding',\n",
       " 'whenever',\n",
       " 'ours',\n",
       " 'namely',\n",
       " 'nowhere']"
      ]
     },
     "execution_count": 27,
     "metadata": {},
     "output_type": "execute_result"
    }
   ],
   "source": [
    "list(nlp.Defaults.stop_words)[:10]"
   ]
  },
  {
   "cell_type": "code",
   "execution_count": 28,
   "id": "16ffb215",
   "metadata": {},
   "outputs": [
    {
     "data": {
      "text/plain": [
       "['life', 'give', 'lemon', 'lemonade']"
      ]
     },
     "execution_count": 28,
     "metadata": {},
     "output_type": "execute_result"
    }
   ],
   "source": [
    "#3. stop words - lematyzacja bez stop words\n",
    "norm=[token.lemma_ for token in doc if not token.is_stop]\n",
    "norm"
   ]
  },
  {
   "cell_type": "code",
   "execution_count": 29,
   "id": "7d766d5d",
   "metadata": {},
   "outputs": [
    {
     "data": {
      "text/plain": [
       "'life give lemon lemonade'"
      ]
     },
     "execution_count": 29,
     "metadata": {},
     "output_type": "execute_result"
    }
   ],
   "source": [
    "' '.join(norm) #dolacza spacje"
   ]
  },
  {
   "cell_type": "markdown",
   "id": "32924020",
   "metadata": {},
   "source": [
    "# 39"
   ]
  },
  {
   "cell_type": "code",
   "execution_count": 30,
   "id": "bbb98f17",
   "metadata": {},
   "outputs": [],
   "source": [
    "def token_lemma_nonstop(text):\n",
    "    doc=nlp(text)\n",
    "    output=[token.lemma_ for token in doc if not token.is_stop] #lista lematyzowanych tokenów\n",
    "    output=' '.join(output) \n",
    "    return output"
   ]
  },
  {
   "cell_type": "code",
   "execution_count": 31,
   "id": "074da476",
   "metadata": {},
   "outputs": [
    {
     "data": {
      "text/plain": [
       "0    We're going to start this course with traditional NLP applications.\n",
       "1                               Then we'll move on to modern NLP theory.\n",
       "2            Finally, we'll wrap things up with modern NLP applications.\n",
       "dtype: object"
      ]
     },
     "execution_count": 31,
     "metadata": {},
     "output_type": "execute_result"
    }
   ],
   "source": [
    "test_series"
   ]
  },
  {
   "cell_type": "code",
   "execution_count": 32,
   "id": "6592bb33",
   "metadata": {},
   "outputs": [
    {
     "data": {
      "text/plain": [
       "0    go start course traditional NLP application .\n",
       "1                              modern NLP theory .\n",
       "2    finally , wrap thing modern NLP application .\n",
       "dtype: object"
      ]
     },
     "execution_count": 32,
     "metadata": {},
     "output_type": "execute_result"
    }
   ],
   "source": [
    "test_series.apply(token_lemma_nonstop) #mogę zaaplikować funkcję na każdym wierszu"
   ]
  },
  {
   "cell_type": "code",
   "execution_count": 33,
   "id": "81deb25f",
   "metadata": {},
   "outputs": [
    {
     "data": {
      "text/html": [
       "<div>\n",
       "<style scoped>\n",
       "    .dataframe tbody tr th:only-of-type {\n",
       "        vertical-align: middle;\n",
       "    }\n",
       "\n",
       "    .dataframe tbody tr th {\n",
       "        vertical-align: top;\n",
       "    }\n",
       "\n",
       "    .dataframe thead th {\n",
       "        text-align: right;\n",
       "    }\n",
       "</style>\n",
       "<table border=\"1\" class=\"dataframe\">\n",
       "  <thead>\n",
       "    <tr style=\"text-align: right;\">\n",
       "      <th></th>\n",
       "      <th>sentence</th>\n",
       "      <th>sentence_clean</th>\n",
       "    </tr>\n",
       "  </thead>\n",
       "  <tbody>\n",
       "    <tr>\n",
       "      <th>0</th>\n",
       "      <td>When life gives you lemons, make lemonade! 🙂</td>\n",
       "      <td>when life gives you lemons make lemonade</td>\n",
       "    </tr>\n",
       "    <tr>\n",
       "      <th>1</th>\n",
       "      <td>She bought 2 lemons for $1 at Maven Market.</td>\n",
       "      <td>she bought 2 lemons for 1 at maven market</td>\n",
       "    </tr>\n",
       "    <tr>\n",
       "      <th>2</th>\n",
       "      <td>A dozen lemons will make a gallon of lemonade. [AllRecipes]</td>\n",
       "      <td>a dozen lemons will make a gallon of lemonade</td>\n",
       "    </tr>\n",
       "    <tr>\n",
       "      <th>3</th>\n",
       "      <td>lemon, lemon, lemons, lemon, lemon, lemons</td>\n",
       "      <td>lemon lemon lemons lemon lemon lemons</td>\n",
       "    </tr>\n",
       "    <tr>\n",
       "      <th>4</th>\n",
       "      <td>He's running to the market to get a lemon — there's a great sale today.</td>\n",
       "      <td>hes running to the market to get a lemon  theres a great sale today</td>\n",
       "    </tr>\n",
       "    <tr>\n",
       "      <th>5</th>\n",
       "      <td>Does Maven Market carry Eureka lemons or Meyer lemons?</td>\n",
       "      <td>does maven market carry eureka lemons or meyer lemons</td>\n",
       "    </tr>\n",
       "    <tr>\n",
       "      <th>6</th>\n",
       "      <td>An Arnold Palmer is half lemonade, half iced tea. [Wikipedia]</td>\n",
       "      <td>an arnold palmer is half lemonade half iced tea</td>\n",
       "    </tr>\n",
       "    <tr>\n",
       "      <th>7</th>\n",
       "      <td>iced tea is my favorite</td>\n",
       "      <td>iced tea is my favorite</td>\n",
       "    </tr>\n",
       "  </tbody>\n",
       "</table>\n",
       "</div>"
      ],
      "text/plain": [
       "                                                                  sentence  \\\n",
       "0                             When life gives you lemons, make lemonade! 🙂   \n",
       "1                              She bought 2 lemons for $1 at Maven Market.   \n",
       "2              A dozen lemons will make a gallon of lemonade. [AllRecipes]   \n",
       "3                               lemon, lemon, lemons, lemon, lemon, lemons   \n",
       "4  He's running to the market to get a lemon — there's a great sale today.   \n",
       "5                   Does Maven Market carry Eureka lemons or Meyer lemons?   \n",
       "6            An Arnold Palmer is half lemonade, half iced tea. [Wikipedia]   \n",
       "7                                                  iced tea is my favorite   \n",
       "\n",
       "                                                        sentence_clean  \n",
       "0                            when life gives you lemons make lemonade   \n",
       "1                            she bought 2 lemons for 1 at maven market  \n",
       "2                       a dozen lemons will make a gallon of lemonade   \n",
       "3                                lemon lemon lemons lemon lemon lemons  \n",
       "4  hes running to the market to get a lemon  theres a great sale today  \n",
       "5                does maven market carry eureka lemons or meyer lemons  \n",
       "6                     an arnold palmer is half lemonade half iced tea   \n",
       "7                                              iced tea is my favorite  "
      ]
     },
     "execution_count": 33,
     "metadata": {},
     "output_type": "execute_result"
    }
   ],
   "source": [
    "df"
   ]
  },
  {
   "cell_type": "code",
   "execution_count": 34,
   "id": "8b73f33e",
   "metadata": {},
   "outputs": [
    {
     "data": {
      "text/plain": [
       "0                              when life gives you lemons make lemonade \n",
       "1                              she bought 2 lemons for 1 at maven market\n",
       "2                         a dozen lemons will make a gallon of lemonade \n",
       "3                                  lemon lemon lemons lemon lemon lemons\n",
       "4    hes running to the market to get a lemon  theres a great sale today\n",
       "5                  does maven market carry eureka lemons or meyer lemons\n",
       "6                       an arnold palmer is half lemonade half iced tea \n",
       "7                                                iced tea is my favorite\n",
       "Name: sentence, dtype: object"
      ]
     },
     "execution_count": 34,
     "metadata": {},
     "output_type": "execute_result"
    }
   ],
   "source": [
    "lower_replace(df.sentence) #pandas"
   ]
  },
  {
   "cell_type": "code",
   "execution_count": 35,
   "id": "6afbe837",
   "metadata": {},
   "outputs": [
    {
     "data": {
      "text/plain": [
       "0                       life give lemon lemonade\n",
       "1                     buy 2 lemon 1 maven market\n",
       "2                    dozen lemon gallon lemonade\n",
       "3            lemon lemon lemon lemon lemon lemon\n",
       "4        s run market lemon   s great sale today\n",
       "5    maven market carry eureka lemon meyer lemon\n",
       "6       arnold palmer half lemonade half ice tea\n",
       "7                               ice tea favorite\n",
       "Name: sentence, dtype: object"
      ]
     },
     "execution_count": 35,
     "metadata": {},
     "output_type": "execute_result"
    }
   ],
   "source": [
    "lower_replace(df.sentence).apply(token_lemma_nonstop) #pandas - str.lower + spacy (token, lemma,stop)"
   ]
  },
  {
   "cell_type": "code",
   "execution_count": 36,
   "id": "9ea5143e",
   "metadata": {},
   "outputs": [
    {
     "data": {
      "text/plain": [
       "'life give lemon lemonade'"
      ]
     },
     "execution_count": 36,
     "metadata": {},
     "output_type": "execute_result"
    }
   ],
   "source": [
    "lower_replace(df.sentence).apply(token_lemma_nonstop)[0] #-||-"
   ]
  },
  {
   "cell_type": "code",
   "execution_count": 37,
   "id": "8bad9d75",
   "metadata": {},
   "outputs": [],
   "source": [
    "# 4.Parts of speech tagging POS"
   ]
  },
  {
   "cell_type": "code",
   "execution_count": 38,
   "id": "52c20d07",
   "metadata": {},
   "outputs": [
    {
     "data": {
      "text/plain": [
       "'life give lemon lemonade'"
      ]
     },
     "execution_count": 38,
     "metadata": {},
     "output_type": "execute_result"
    }
   ],
   "source": [
    "phrase2=lower_replace(df.sentence).apply(token_lemma_nonstop)[0]\n",
    "phrase2"
   ]
  },
  {
   "cell_type": "code",
   "execution_count": 39,
   "id": "b871d737",
   "metadata": {},
   "outputs": [
    {
     "data": {
      "text/plain": [
       "life give lemon lemonade"
      ]
     },
     "execution_count": 39,
     "metadata": {},
     "output_type": "execute_result"
    }
   ],
   "source": [
    "doc2=nlp(phrase2)\n",
    "doc2"
   ]
  },
  {
   "cell_type": "code",
   "execution_count": 40,
   "id": "1fcc1c2a",
   "metadata": {},
   "outputs": [
    {
     "data": {
      "text/plain": [
       "[('life', 'NOUN'), ('give', 'VERB'), ('lemon', 'NOUN'), ('lemonade', 'PROPN')]"
      ]
     },
     "execution_count": 40,
     "metadata": {},
     "output_type": "execute_result"
    }
   ],
   "source": [
    "[(token.text,token.pos_) for token in doc2]"
   ]
  },
  {
   "cell_type": "code",
   "execution_count": 41,
   "id": "85078871",
   "metadata": {},
   "outputs": [
    {
     "data": {
      "text/plain": [
       "[('life', 'NOUN'), ('lemon', 'NOUN'), ('lemonade', 'PROPN')]"
      ]
     },
     "execution_count": 41,
     "metadata": {},
     "output_type": "execute_result"
    }
   ],
   "source": [
    "[(token.text,token.pos_) for token in doc2 if token.pos_ in ['NOUN', 'PROPN']]"
   ]
  },
  {
   "cell_type": "code",
   "execution_count": 42,
   "id": "ee0c2340",
   "metadata": {},
   "outputs": [],
   "source": [
    "nouns=[(token.text) for token in doc2 if token.pos_ in ['NOUN', 'PROPN']]"
   ]
  },
  {
   "cell_type": "code",
   "execution_count": 43,
   "id": "7c746296",
   "metadata": {},
   "outputs": [
    {
     "data": {
      "text/plain": [
       "'life lemon lemonade'"
      ]
     },
     "execution_count": 43,
     "metadata": {},
     "output_type": "execute_result"
    }
   ],
   "source": [
    "' '.join(nouns)"
   ]
  },
  {
   "cell_type": "code",
   "execution_count": 44,
   "id": "9505014f",
   "metadata": {},
   "outputs": [],
   "source": [
    "# funkcja zwracajaca pos\n",
    "\n",
    "def filter_pos(text,pos_list=['NOUN', 'PROPN']):\n",
    "    doc=nlp(text)\n",
    "    output=[(token.text) for token in doc if token.pos_ in pos_list]\n",
    "    output=' '.join(output)\n",
    "    return output\n"
   ]
  },
  {
   "cell_type": "code",
   "execution_count": 45,
   "id": "29ebdfa5",
   "metadata": {},
   "outputs": [
    {
     "data": {
      "text/plain": [
       "'give'"
      ]
     },
     "execution_count": 45,
     "metadata": {},
     "output_type": "execute_result"
    }
   ],
   "source": [
    "filter_pos(doc2,'VERB')\n"
   ]
  },
  {
   "cell_type": "code",
   "execution_count": 46,
   "id": "ae365d97",
   "metadata": {},
   "outputs": [
    {
     "data": {
      "text/plain": [
       "'course NLP applications'"
      ]
     },
     "execution_count": 46,
     "metadata": {},
     "output_type": "execute_result"
    }
   ],
   "source": [
    "filter_pos(test_series[0])"
   ]
  },
  {
   "cell_type": "code",
   "execution_count": 47,
   "id": "cc86c265",
   "metadata": {},
   "outputs": [
    {
     "data": {
      "text/plain": [
       "0    course NLP applications\n",
       "1                 NLP theory\n",
       "2    things NLP applications\n",
       "dtype: object"
      ]
     },
     "execution_count": 47,
     "metadata": {},
     "output_type": "execute_result"
    }
   ],
   "source": [
    "test_series.apply(filter_pos) #apply każdy wiersz"
   ]
  },
  {
   "cell_type": "code",
   "execution_count": 48,
   "id": "a0cc3402",
   "metadata": {},
   "outputs": [
    {
     "data": {
      "text/plain": [
       "0                               When life gives you lemons, make lemonade! 🙂\n",
       "1                                She bought 2 lemons for $1 at Maven Market.\n",
       "2                A dozen lemons will make a gallon of lemonade. [AllRecipes]\n",
       "3                                 lemon, lemon, lemons, lemon, lemon, lemons\n",
       "4    He's running to the market to get a lemon — there's a great sale today.\n",
       "5                     Does Maven Market carry Eureka lemons or Meyer lemons?\n",
       "6              An Arnold Palmer is half lemonade, half iced tea. [Wikipedia]\n",
       "7                                                    iced tea is my favorite\n",
       "Name: sentence, dtype: object"
      ]
     },
     "execution_count": 48,
     "metadata": {},
     "output_type": "execute_result"
    }
   ],
   "source": [
    "df.sentence"
   ]
  },
  {
   "cell_type": "code",
   "execution_count": 49,
   "id": "e10c9f2e",
   "metadata": {},
   "outputs": [
    {
     "data": {
      "text/plain": [
       "0                              when life gives you lemons make lemonade \n",
       "1                              she bought 2 lemons for 1 at maven market\n",
       "2                         a dozen lemons will make a gallon of lemonade \n",
       "3                                  lemon lemon lemons lemon lemon lemons\n",
       "4    hes running to the market to get a lemon  theres a great sale today\n",
       "5                  does maven market carry eureka lemons or meyer lemons\n",
       "6                       an arnold palmer is half lemonade half iced tea \n",
       "7                                                iced tea is my favorite\n",
       "Name: sentence, dtype: object"
      ]
     },
     "execution_count": 49,
     "metadata": {},
     "output_type": "execute_result"
    }
   ],
   "source": [
    "lower_replace(df.sentence)"
   ]
  },
  {
   "cell_type": "code",
   "execution_count": 50,
   "id": "7ef84cc6",
   "metadata": {},
   "outputs": [
    {
     "data": {
      "text/plain": [
       "0              life lemon lemonade\n",
       "1               lemon maven market\n",
       "2      dozen lemon gallon lemonade\n",
       "3    lemon lemon lemon lemon lemon\n",
       "4          market lemon sale today\n",
       "5        market eureka lemon lemon\n",
       "6              palmer lemonade tea\n",
       "7                              tea\n",
       "Name: sentence, dtype: object"
      ]
     },
     "execution_count": 50,
     "metadata": {},
     "output_type": "execute_result"
    }
   ],
   "source": [
    "lower_replace(df.sentence).apply(filter_pos).apply(token_lemma_nonstop)"
   ]
  },
  {
   "cell_type": "code",
   "execution_count": 51,
   "id": "2132ee29",
   "metadata": {},
   "outputs": [
    {
     "data": {
      "text/plain": [
       "0       gives make\n",
       "1           bought\n",
       "2             make\n",
       "3            lemon\n",
       "4    running get s\n",
       "5            carry\n",
       "6             iced\n",
       "7             iced\n",
       "Name: sentence, dtype: object"
      ]
     },
     "execution_count": 51,
     "metadata": {},
     "output_type": "execute_result"
    }
   ],
   "source": [
    "lower_replace(df.sentence).apply(lambda x: filter_pos(x, ['VERB']))"
   ]
  },
  {
   "cell_type": "markdown",
   "id": "62e5558e",
   "metadata": {},
   "source": [
    "# Lekcja 41 Create a NLP Pipepline"
   ]
  },
  {
   "cell_type": "code",
   "execution_count": 52,
   "id": "648e27f5",
   "metadata": {},
   "outputs": [],
   "source": [
    "def lower_replace(series): #column of data #series=pd.Series(test) where test is column text, or series=df['sentence']\n",
    "    output=series.str.lower()\n",
    "    output=output.str.replace(r'\\[.*?\\]','',regex=True) \n",
    "    output=output.str.replace(r'[^\\w\\s]','',regex=True) \n",
    "    return output\n",
    "\n",
    "def token_lemma_nonstop(text):\n",
    "    doc=nlp(text)\n",
    "    output=[token.lemma_ for token in doc if not token.is_stop] #lista lematyzowanych tokenów\n",
    "    output=' '.join(output) \n",
    "    return output\n",
    "\n",
    "def filter_pos(text,pos_list=['NOUN', 'PROPN']):\n",
    "    doc=nlp(text)\n",
    "    output=[(token.text) for token in doc if token.pos_ in pos_list]\n",
    "    output=' '.join(output)\n",
    "    return output\n"
   ]
  },
  {
   "cell_type": "code",
   "execution_count": 53,
   "id": "2bd6a10a",
   "metadata": {},
   "outputs": [],
   "source": [
    "def nlp_pipeline(series):\n",
    "    output=lower_replace(series)\n",
    "    output=output.apply(token_lemma_nonstop) #only single string\n",
    "    output=output.apply(filter_pos)\n",
    "    return output"
   ]
  },
  {
   "cell_type": "code",
   "execution_count": 54,
   "id": "f6195ed8",
   "metadata": {},
   "outputs": [
    {
     "data": {
      "text/plain": [
       "0    We're going to start this course with traditional NLP applications.\n",
       "1                               Then we'll move on to modern NLP theory.\n",
       "2            Finally, we'll wrap things up with modern NLP applications.\n",
       "dtype: object"
      ]
     },
     "execution_count": 54,
     "metadata": {},
     "output_type": "execute_result"
    }
   ],
   "source": [
    "test_series"
   ]
  },
  {
   "cell_type": "code",
   "execution_count": 56,
   "id": "1ce46b2c",
   "metadata": {},
   "outputs": [
    {
     "data": {
      "text/plain": [
       "0                               When life gives you lemons, make lemonade! 🙂\n",
       "1                                She bought 2 lemons for $1 at Maven Market.\n",
       "2                A dozen lemons will make a gallon of lemonade. [AllRecipes]\n",
       "3                                 lemon, lemon, lemons, lemon, lemon, lemons\n",
       "4    He's running to the market to get a lemon — there's a great sale today.\n",
       "5                     Does Maven Market carry Eureka lemons or Meyer lemons?\n",
       "6              An Arnold Palmer is half lemonade, half iced tea. [Wikipedia]\n",
       "7                                                    iced tea is my favorite\n",
       "Name: sentence, dtype: object"
      ]
     },
     "execution_count": 56,
     "metadata": {},
     "output_type": "execute_result"
    }
   ],
   "source": [
    "df.sentence"
   ]
  },
  {
   "cell_type": "code",
   "execution_count": 57,
   "id": "52c24c52",
   "metadata": {},
   "outputs": [
    {
     "data": {
      "text/plain": [
       "0          nlp application\n",
       "1               nlp theory\n",
       "2    thing nlp application\n",
       "dtype: object"
      ]
     },
     "execution_count": 57,
     "metadata": {},
     "output_type": "execute_result"
    }
   ],
   "source": [
    "nlp_pipeline(test_series)"
   ]
  },
  {
   "cell_type": "code",
   "execution_count": 59,
   "id": "142979b7",
   "metadata": {},
   "outputs": [
    {
     "data": {
      "text/plain": [
       "0                    life lemon lemonade\n",
       "1                     lemon maven market\n",
       "2            dozen lemon gallon lemonade\n",
       "3    lemon lemon lemon lemon lemon lemon\n",
       "4              s market lemon sale today\n",
       "5        maven market eureka lemon lemon\n",
       "6           palmer lemonade half ice tea\n",
       "7                       ice tea favorite\n",
       "Name: sentence, dtype: object"
      ]
     },
     "execution_count": 59,
     "metadata": {},
     "output_type": "execute_result"
    }
   ],
   "source": [
    "text_clean=nlp_pipeline(df.sentence)\n",
    "text_clean"
   ]
  },
  {
   "cell_type": "code",
   "execution_count": 60,
   "id": "0847b012",
   "metadata": {},
   "outputs": [],
   "source": [
    "pd.to_pickle(text_clean,'text_clean.pkl')"
   ]
  },
  {
   "cell_type": "code",
   "execution_count": 62,
   "id": "b548a8a1",
   "metadata": {},
   "outputs": [
    {
     "data": {
      "text/plain": [
       "0                    life lemon lemonade\n",
       "1                     lemon maven market\n",
       "2            dozen lemon gallon lemonade\n",
       "3    lemon lemon lemon lemon lemon lemon\n",
       "4              s market lemon sale today\n",
       "5        maven market eureka lemon lemon\n",
       "6           palmer lemonade half ice tea\n",
       "7                       ice tea favorite\n",
       "Name: sentence, dtype: object"
      ]
     },
     "execution_count": 62,
     "metadata": {},
     "output_type": "execute_result"
    }
   ],
   "source": [
    "pd.read_pickle('text_clean.pkl')"
   ]
  }
 ],
 "metadata": {
  "kernelspec": {
   "display_name": "nlp_basics (3.13.3)",
   "language": "python",
   "name": "python3"
  },
  "language_info": {
   "codemirror_mode": {
    "name": "ipython",
    "version": 3
   },
   "file_extension": ".py",
   "mimetype": "text/x-python",
   "name": "python",
   "nbconvert_exporter": "python",
   "pygments_lexer": "ipython3",
   "version": "3.13.3"
  }
 },
 "nbformat": 4,
 "nbformat_minor": 5
}
