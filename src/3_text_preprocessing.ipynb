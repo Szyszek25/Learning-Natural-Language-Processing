{
 "cells": [
  {
   "cell_type": "markdown",
   "id": "41cbcdb7",
   "metadata": {},
   "source": [
    "# Text preprocessing"
   ]
  },
  {
   "cell_type": "markdown",
   "id": "230a2e64",
   "metadata": {},
   "source": [
    "# 0. Create Data sets"
   ]
  },
  {
   "cell_type": "code",
   "execution_count": 37,
   "id": "ca209248",
   "metadata": {},
   "outputs": [],
   "source": [
    "import pandas as pd"
   ]
  },
  {
   "cell_type": "code",
   "execution_count": 38,
   "id": "f0b7b426",
   "metadata": {},
   "outputs": [],
   "source": [
    "data = [\n",
    "    \"When life gives you lemons, make lemonade! 🙂\",\n",
    "    \"She bought 2 lemons for $1 at Maven Market.\",\n",
    "    \"A dozen lemons will make a gallon of lemonade. [AllRecipes]\",\n",
    "    \"lemon, lemon, lemons, lemon, lemon, lemons\",\n",
    "    \"He's running to the market to get a lemon — there's a great sale today.\",\n",
    "    \"Does Maven Market carry Eureka lemons or Meyer lemons?\",\n",
    "    \"An Arnold Palmer is half lemonade, half iced tea. [Wikipedia]\",\n",
    "    \"iced tea is my favorite\"\n",
    "]"
   ]
  },
  {
   "cell_type": "code",
   "execution_count": 39,
   "id": "67c76a75",
   "metadata": {},
   "outputs": [],
   "source": [
    "pd.set_option('display.max_colwidth', None)\n"
   ]
  },
  {
   "cell_type": "code",
   "execution_count": 40,
   "id": "f2624a63",
   "metadata": {},
   "outputs": [
    {
     "data": {
      "text/plain": [
       "['When life gives you lemons, make lemonade! 🙂',\n",
       " 'She bought 2 lemons for $1 at Maven Market.',\n",
       " 'A dozen lemons will make a gallon of lemonade. [AllRecipes]',\n",
       " 'lemon, lemon, lemons, lemon, lemon, lemons',\n",
       " \"He's running to the market to get a lemon — there's a great sale today.\",\n",
       " 'Does Maven Market carry Eureka lemons or Meyer lemons?',\n",
       " 'An Arnold Palmer is half lemonade, half iced tea. [Wikipedia]',\n",
       " 'iced tea is my favorite']"
      ]
     },
     "execution_count": 40,
     "metadata": {},
     "output_type": "execute_result"
    }
   ],
   "source": [
    "data"
   ]
  },
  {
   "cell_type": "code",
   "execution_count": 41,
   "id": "c1f6ce9c",
   "metadata": {},
   "outputs": [],
   "source": [
    "data_df=pd.DataFrame(data, columns=['sentence'])"
   ]
  },
  {
   "cell_type": "code",
   "execution_count": 42,
   "id": "078bb5ec",
   "metadata": {},
   "outputs": [
    {
     "data": {
      "text/html": [
       "<div>\n",
       "<style scoped>\n",
       "    .dataframe tbody tr th:only-of-type {\n",
       "        vertical-align: middle;\n",
       "    }\n",
       "\n",
       "    .dataframe tbody tr th {\n",
       "        vertical-align: top;\n",
       "    }\n",
       "\n",
       "    .dataframe thead th {\n",
       "        text-align: right;\n",
       "    }\n",
       "</style>\n",
       "<table border=\"1\" class=\"dataframe\">\n",
       "  <thead>\n",
       "    <tr style=\"text-align: right;\">\n",
       "      <th></th>\n",
       "      <th>sentence</th>\n",
       "    </tr>\n",
       "  </thead>\n",
       "  <tbody>\n",
       "    <tr>\n",
       "      <th>0</th>\n",
       "      <td>When life gives you lemons, make lemonade! 🙂</td>\n",
       "    </tr>\n",
       "    <tr>\n",
       "      <th>1</th>\n",
       "      <td>She bought 2 lemons for $1 at Maven Market.</td>\n",
       "    </tr>\n",
       "    <tr>\n",
       "      <th>2</th>\n",
       "      <td>A dozen lemons will make a gallon of lemonade. [AllRecipes]</td>\n",
       "    </tr>\n",
       "    <tr>\n",
       "      <th>3</th>\n",
       "      <td>lemon, lemon, lemons, lemon, lemon, lemons</td>\n",
       "    </tr>\n",
       "    <tr>\n",
       "      <th>4</th>\n",
       "      <td>He's running to the market to get a lemon — there's a great sale today.</td>\n",
       "    </tr>\n",
       "    <tr>\n",
       "      <th>5</th>\n",
       "      <td>Does Maven Market carry Eureka lemons or Meyer lemons?</td>\n",
       "    </tr>\n",
       "    <tr>\n",
       "      <th>6</th>\n",
       "      <td>An Arnold Palmer is half lemonade, half iced tea. [Wikipedia]</td>\n",
       "    </tr>\n",
       "    <tr>\n",
       "      <th>7</th>\n",
       "      <td>iced tea is my favorite</td>\n",
       "    </tr>\n",
       "  </tbody>\n",
       "</table>\n",
       "</div>"
      ],
      "text/plain": [
       "                                                                  sentence\n",
       "0                             When life gives you lemons, make lemonade! 🙂\n",
       "1                              She bought 2 lemons for $1 at Maven Market.\n",
       "2              A dozen lemons will make a gallon of lemonade. [AllRecipes]\n",
       "3                               lemon, lemon, lemons, lemon, lemon, lemons\n",
       "4  He's running to the market to get a lemon — there's a great sale today.\n",
       "5                   Does Maven Market carry Eureka lemons or Meyer lemons?\n",
       "6            An Arnold Palmer is half lemonade, half iced tea. [Wikipedia]\n",
       "7                                                  iced tea is my favorite"
      ]
     },
     "execution_count": 42,
     "metadata": {},
     "output_type": "execute_result"
    }
   ],
   "source": [
    "data_df"
   ]
  },
  {
   "cell_type": "code",
   "execution_count": 43,
   "id": "71d2392b",
   "metadata": {},
   "outputs": [
    {
     "data": {
      "text/plain": [
       "0    We're going to start this course with traditional NLP applications.\n",
       "1                               Then we'll move on to modern NLP theory.\n",
       "2            Finally, we'll wrap things up with modern NLP applications.\n",
       "dtype: object"
      ]
     },
     "execution_count": 43,
     "metadata": {},
     "output_type": "execute_result"
    }
   ],
   "source": [
    "test = [\n",
    "    \"We're going to start this course with traditional NLP applications.\",\n",
    "    \"Then we'll move on to modern NLP theory.\",\n",
    "    \"Finally, we'll wrap things up with modern NLP applications.\"\n",
    "]\n",
    "\n",
    "test_series=pd.Series(test)\n",
    "test_series"
   ]
  },
  {
   "cell_type": "code",
   "execution_count": 44,
   "id": "be9dd62b",
   "metadata": {},
   "outputs": [
    {
     "data": {
      "text/html": [
       "<div>\n",
       "<style scoped>\n",
       "    .dataframe tbody tr th:only-of-type {\n",
       "        vertical-align: middle;\n",
       "    }\n",
       "\n",
       "    .dataframe tbody tr th {\n",
       "        vertical-align: top;\n",
       "    }\n",
       "\n",
       "    .dataframe thead th {\n",
       "        text-align: right;\n",
       "    }\n",
       "</style>\n",
       "<table border=\"1\" class=\"dataframe\">\n",
       "  <thead>\n",
       "    <tr style=\"text-align: right;\">\n",
       "      <th></th>\n",
       "      <th>sentence</th>\n",
       "    </tr>\n",
       "  </thead>\n",
       "  <tbody>\n",
       "    <tr>\n",
       "      <th>0</th>\n",
       "      <td>We're going to start this course with traditional NLP applications.</td>\n",
       "    </tr>\n",
       "    <tr>\n",
       "      <th>1</th>\n",
       "      <td>Then we'll move on to modern NLP theory.</td>\n",
       "    </tr>\n",
       "    <tr>\n",
       "      <th>2</th>\n",
       "      <td>Finally, we'll wrap things up with modern NLP applications.</td>\n",
       "    </tr>\n",
       "  </tbody>\n",
       "</table>\n",
       "</div>"
      ],
      "text/plain": [
       "                                                              sentence\n",
       "0  We're going to start this course with traditional NLP applications.\n",
       "1                             Then we'll move on to modern NLP theory.\n",
       "2          Finally, we'll wrap things up with modern NLP applications."
      ]
     },
     "execution_count": 44,
     "metadata": {},
     "output_type": "execute_result"
    }
   ],
   "source": [
    "test_series_df=pd.DataFrame(test_series, columns=['sentence'])\n",
    "test_series_df"
   ]
  },
  {
   "cell_type": "markdown",
   "id": "b8eac8fa",
   "metadata": {},
   "source": [
    "# Text preprocessing with pandas"
   ]
  },
  {
   "cell_type": "code",
   "execution_count": 45,
   "id": "b1b2a217",
   "metadata": {},
   "outputs": [
    {
     "data": {
      "text/html": [
       "<div>\n",
       "<style scoped>\n",
       "    .dataframe tbody tr th:only-of-type {\n",
       "        vertical-align: middle;\n",
       "    }\n",
       "\n",
       "    .dataframe tbody tr th {\n",
       "        vertical-align: top;\n",
       "    }\n",
       "\n",
       "    .dataframe thead th {\n",
       "        text-align: right;\n",
       "    }\n",
       "</style>\n",
       "<table border=\"1\" class=\"dataframe\">\n",
       "  <thead>\n",
       "    <tr style=\"text-align: right;\">\n",
       "      <th></th>\n",
       "      <th>sentence</th>\n",
       "    </tr>\n",
       "  </thead>\n",
       "  <tbody>\n",
       "    <tr>\n",
       "      <th>0</th>\n",
       "      <td>When life gives you lemons, make lemonade! 🙂</td>\n",
       "    </tr>\n",
       "    <tr>\n",
       "      <th>1</th>\n",
       "      <td>She bought 2 lemons for $1 at Maven Market.</td>\n",
       "    </tr>\n",
       "    <tr>\n",
       "      <th>2</th>\n",
       "      <td>A dozen lemons will make a gallon of lemonade. [AllRecipes]</td>\n",
       "    </tr>\n",
       "    <tr>\n",
       "      <th>3</th>\n",
       "      <td>lemon, lemon, lemons, lemon, lemon, lemons</td>\n",
       "    </tr>\n",
       "    <tr>\n",
       "      <th>4</th>\n",
       "      <td>He's running to the market to get a lemon — there's a great sale today.</td>\n",
       "    </tr>\n",
       "    <tr>\n",
       "      <th>5</th>\n",
       "      <td>Does Maven Market carry Eureka lemons or Meyer lemons?</td>\n",
       "    </tr>\n",
       "    <tr>\n",
       "      <th>6</th>\n",
       "      <td>An Arnold Palmer is half lemonade, half iced tea. [Wikipedia]</td>\n",
       "    </tr>\n",
       "    <tr>\n",
       "      <th>7</th>\n",
       "      <td>iced tea is my favorite</td>\n",
       "    </tr>\n",
       "  </tbody>\n",
       "</table>\n",
       "</div>"
      ],
      "text/plain": [
       "                                                                  sentence\n",
       "0                             When life gives you lemons, make lemonade! 🙂\n",
       "1                              She bought 2 lemons for $1 at Maven Market.\n",
       "2              A dozen lemons will make a gallon of lemonade. [AllRecipes]\n",
       "3                               lemon, lemon, lemons, lemon, lemon, lemons\n",
       "4  He's running to the market to get a lemon — there's a great sale today.\n",
       "5                   Does Maven Market carry Eureka lemons or Meyer lemons?\n",
       "6            An Arnold Palmer is half lemonade, half iced tea. [Wikipedia]\n",
       "7                                                  iced tea is my favorite"
      ]
     },
     "execution_count": 45,
     "metadata": {},
     "output_type": "execute_result"
    }
   ],
   "source": [
    "data_df"
   ]
  },
  {
   "cell_type": "code",
   "execution_count": 46,
   "id": "dccb9c99",
   "metadata": {},
   "outputs": [
    {
     "data": {
      "text/html": [
       "<div>\n",
       "<style scoped>\n",
       "    .dataframe tbody tr th:only-of-type {\n",
       "        vertical-align: middle;\n",
       "    }\n",
       "\n",
       "    .dataframe tbody tr th {\n",
       "        vertical-align: top;\n",
       "    }\n",
       "\n",
       "    .dataframe thead th {\n",
       "        text-align: right;\n",
       "    }\n",
       "</style>\n",
       "<table border=\"1\" class=\"dataframe\">\n",
       "  <thead>\n",
       "    <tr style=\"text-align: right;\">\n",
       "      <th></th>\n",
       "      <th>sentence</th>\n",
       "    </tr>\n",
       "  </thead>\n",
       "  <tbody>\n",
       "    <tr>\n",
       "      <th>0</th>\n",
       "      <td>When life gives you lemons, make lemonade! 🙂</td>\n",
       "    </tr>\n",
       "    <tr>\n",
       "      <th>1</th>\n",
       "      <td>She bought 2 lemons for $1 at Maven Market.</td>\n",
       "    </tr>\n",
       "    <tr>\n",
       "      <th>2</th>\n",
       "      <td>A dozen lemons will make a gallon of lemonade. [AllRecipes]</td>\n",
       "    </tr>\n",
       "    <tr>\n",
       "      <th>3</th>\n",
       "      <td>lemon, lemon, lemons, lemon, lemon, lemons</td>\n",
       "    </tr>\n",
       "    <tr>\n",
       "      <th>4</th>\n",
       "      <td>He's running to the market to get a lemon — there's a great sale today.</td>\n",
       "    </tr>\n",
       "    <tr>\n",
       "      <th>5</th>\n",
       "      <td>Does Maven Market carry Eureka lemons or Meyer lemons?</td>\n",
       "    </tr>\n",
       "    <tr>\n",
       "      <th>6</th>\n",
       "      <td>An Arnold Palmer is half lemonade, half iced tea. [Wikipedia]</td>\n",
       "    </tr>\n",
       "    <tr>\n",
       "      <th>7</th>\n",
       "      <td>iced tea is my favorite</td>\n",
       "    </tr>\n",
       "  </tbody>\n",
       "</table>\n",
       "</div>"
      ],
      "text/plain": [
       "                                                                  sentence\n",
       "0                             When life gives you lemons, make lemonade! 🙂\n",
       "1                              She bought 2 lemons for $1 at Maven Market.\n",
       "2              A dozen lemons will make a gallon of lemonade. [AllRecipes]\n",
       "3                               lemon, lemon, lemons, lemon, lemon, lemons\n",
       "4  He's running to the market to get a lemon — there's a great sale today.\n",
       "5                   Does Maven Market carry Eureka lemons or Meyer lemons?\n",
       "6            An Arnold Palmer is half lemonade, half iced tea. [Wikipedia]\n",
       "7                                                  iced tea is my favorite"
      ]
     },
     "execution_count": 46,
     "metadata": {},
     "output_type": "execute_result"
    }
   ],
   "source": [
    "df=data_df.copy()\n",
    "df"
   ]
  },
  {
   "cell_type": "code",
   "execution_count": 47,
   "id": "147220ce",
   "metadata": {},
   "outputs": [],
   "source": [
    "# lowercalse\n",
    "\n",
    "df['sentence_clean']=df['sentence'].str.lower()"
   ]
  },
  {
   "cell_type": "code",
   "execution_count": 48,
   "id": "aeb19039",
   "metadata": {},
   "outputs": [
    {
     "data": {
      "text/html": [
       "<div>\n",
       "<style scoped>\n",
       "    .dataframe tbody tr th:only-of-type {\n",
       "        vertical-align: middle;\n",
       "    }\n",
       "\n",
       "    .dataframe tbody tr th {\n",
       "        vertical-align: top;\n",
       "    }\n",
       "\n",
       "    .dataframe thead th {\n",
       "        text-align: right;\n",
       "    }\n",
       "</style>\n",
       "<table border=\"1\" class=\"dataframe\">\n",
       "  <thead>\n",
       "    <tr style=\"text-align: right;\">\n",
       "      <th></th>\n",
       "      <th>sentence</th>\n",
       "      <th>sentence_clean</th>\n",
       "    </tr>\n",
       "  </thead>\n",
       "  <tbody>\n",
       "    <tr>\n",
       "      <th>0</th>\n",
       "      <td>When life gives you lemons, make lemonade! 🙂</td>\n",
       "      <td>when life gives you lemons, make lemonade! 🙂</td>\n",
       "    </tr>\n",
       "    <tr>\n",
       "      <th>1</th>\n",
       "      <td>She bought 2 lemons for $1 at Maven Market.</td>\n",
       "      <td>she bought 2 lemons for $1 at maven market.</td>\n",
       "    </tr>\n",
       "    <tr>\n",
       "      <th>2</th>\n",
       "      <td>A dozen lemons will make a gallon of lemonade. [AllRecipes]</td>\n",
       "      <td>a dozen lemons will make a gallon of lemonade. [allrecipes]</td>\n",
       "    </tr>\n",
       "    <tr>\n",
       "      <th>3</th>\n",
       "      <td>lemon, lemon, lemons, lemon, lemon, lemons</td>\n",
       "      <td>lemon, lemon, lemons, lemon, lemon, lemons</td>\n",
       "    </tr>\n",
       "    <tr>\n",
       "      <th>4</th>\n",
       "      <td>He's running to the market to get a lemon — there's a great sale today.</td>\n",
       "      <td>he's running to the market to get a lemon — there's a great sale today.</td>\n",
       "    </tr>\n",
       "    <tr>\n",
       "      <th>5</th>\n",
       "      <td>Does Maven Market carry Eureka lemons or Meyer lemons?</td>\n",
       "      <td>does maven market carry eureka lemons or meyer lemons?</td>\n",
       "    </tr>\n",
       "    <tr>\n",
       "      <th>6</th>\n",
       "      <td>An Arnold Palmer is half lemonade, half iced tea. [Wikipedia]</td>\n",
       "      <td>an arnold palmer is half lemonade, half iced tea. [wikipedia]</td>\n",
       "    </tr>\n",
       "    <tr>\n",
       "      <th>7</th>\n",
       "      <td>iced tea is my favorite</td>\n",
       "      <td>iced tea is my favorite</td>\n",
       "    </tr>\n",
       "  </tbody>\n",
       "</table>\n",
       "</div>"
      ],
      "text/plain": [
       "                                                                  sentence  \\\n",
       "0                             When life gives you lemons, make lemonade! 🙂   \n",
       "1                              She bought 2 lemons for $1 at Maven Market.   \n",
       "2              A dozen lemons will make a gallon of lemonade. [AllRecipes]   \n",
       "3                               lemon, lemon, lemons, lemon, lemon, lemons   \n",
       "4  He's running to the market to get a lemon — there's a great sale today.   \n",
       "5                   Does Maven Market carry Eureka lemons or Meyer lemons?   \n",
       "6            An Arnold Palmer is half lemonade, half iced tea. [Wikipedia]   \n",
       "7                                                  iced tea is my favorite   \n",
       "\n",
       "                                                            sentence_clean  \n",
       "0                             when life gives you lemons, make lemonade! 🙂  \n",
       "1                              she bought 2 lemons for $1 at maven market.  \n",
       "2              a dozen lemons will make a gallon of lemonade. [allrecipes]  \n",
       "3                               lemon, lemon, lemons, lemon, lemon, lemons  \n",
       "4  he's running to the market to get a lemon — there's a great sale today.  \n",
       "5                   does maven market carry eureka lemons or meyer lemons?  \n",
       "6            an arnold palmer is half lemonade, half iced tea. [wikipedia]  \n",
       "7                                                  iced tea is my favorite  "
      ]
     },
     "execution_count": 48,
     "metadata": {},
     "output_type": "execute_result"
    }
   ],
   "source": [
    "df"
   ]
  },
  {
   "cell_type": "markdown",
   "id": "9e52b5ba",
   "metadata": {},
   "source": [
    "# remove square brackets []"
   ]
  },
  {
   "cell_type": "code",
   "execution_count": 49,
   "id": "0a457d6d",
   "metadata": {},
   "outputs": [
    {
     "data": {
      "text/html": [
       "<div>\n",
       "<style scoped>\n",
       "    .dataframe tbody tr th:only-of-type {\n",
       "        vertical-align: middle;\n",
       "    }\n",
       "\n",
       "    .dataframe tbody tr th {\n",
       "        vertical-align: top;\n",
       "    }\n",
       "\n",
       "    .dataframe thead th {\n",
       "        text-align: right;\n",
       "    }\n",
       "</style>\n",
       "<table border=\"1\" class=\"dataframe\">\n",
       "  <thead>\n",
       "    <tr style=\"text-align: right;\">\n",
       "      <th></th>\n",
       "      <th>sentence</th>\n",
       "      <th>sentence_clean</th>\n",
       "    </tr>\n",
       "  </thead>\n",
       "  <tbody>\n",
       "    <tr>\n",
       "      <th>0</th>\n",
       "      <td>When life gives you lemons, make lemonade! 🙂</td>\n",
       "      <td>when life gives you lemons, make lemonade! 🙂</td>\n",
       "    </tr>\n",
       "    <tr>\n",
       "      <th>1</th>\n",
       "      <td>She bought 2 lemons for $1 at Maven Market.</td>\n",
       "      <td>she bought 2 lemons for $1 at maven market.</td>\n",
       "    </tr>\n",
       "    <tr>\n",
       "      <th>2</th>\n",
       "      <td>A dozen lemons will make a gallon of lemonade. [AllRecipes]</td>\n",
       "      <td>a dozen lemons will make a gallon of lemonade.</td>\n",
       "    </tr>\n",
       "    <tr>\n",
       "      <th>3</th>\n",
       "      <td>lemon, lemon, lemons, lemon, lemon, lemons</td>\n",
       "      <td>lemon, lemon, lemons, lemon, lemon, lemons</td>\n",
       "    </tr>\n",
       "    <tr>\n",
       "      <th>4</th>\n",
       "      <td>He's running to the market to get a lemon — there's a great sale today.</td>\n",
       "      <td>he's running to the market to get a lemon — there's a great sale today.</td>\n",
       "    </tr>\n",
       "    <tr>\n",
       "      <th>5</th>\n",
       "      <td>Does Maven Market carry Eureka lemons or Meyer lemons?</td>\n",
       "      <td>does maven market carry eureka lemons or meyer lemons?</td>\n",
       "    </tr>\n",
       "    <tr>\n",
       "      <th>6</th>\n",
       "      <td>An Arnold Palmer is half lemonade, half iced tea. [Wikipedia]</td>\n",
       "      <td>an arnold palmer is half lemonade, half iced tea.</td>\n",
       "    </tr>\n",
       "    <tr>\n",
       "      <th>7</th>\n",
       "      <td>iced tea is my favorite</td>\n",
       "      <td>iced tea is my favorite</td>\n",
       "    </tr>\n",
       "  </tbody>\n",
       "</table>\n",
       "</div>"
      ],
      "text/plain": [
       "                                                                  sentence  \\\n",
       "0                             When life gives you lemons, make lemonade! 🙂   \n",
       "1                              She bought 2 lemons for $1 at Maven Market.   \n",
       "2              A dozen lemons will make a gallon of lemonade. [AllRecipes]   \n",
       "3                               lemon, lemon, lemons, lemon, lemon, lemons   \n",
       "4  He's running to the market to get a lemon — there's a great sale today.   \n",
       "5                   Does Maven Market carry Eureka lemons or Meyer lemons?   \n",
       "6            An Arnold Palmer is half lemonade, half iced tea. [Wikipedia]   \n",
       "7                                                  iced tea is my favorite   \n",
       "\n",
       "                                                            sentence_clean  \n",
       "0                             when life gives you lemons, make lemonade! 🙂  \n",
       "1                              she bought 2 lemons for $1 at maven market.  \n",
       "2                          a dozen lemons will make a gallon of lemonade.   \n",
       "3                               lemon, lemon, lemons, lemon, lemon, lemons  \n",
       "4  he's running to the market to get a lemon — there's a great sale today.  \n",
       "5                   does maven market carry eureka lemons or meyer lemons?  \n",
       "6                       an arnold palmer is half lemonade, half iced tea.   \n",
       "7                                                  iced tea is my favorite  "
      ]
     },
     "execution_count": 49,
     "metadata": {},
     "output_type": "execute_result"
    }
   ],
   "source": [
    "df['sentence_clean']=df['sentence_clean'].str.replace(r'\\[.*?\\]','',regex=True) # after '\\' remove text in brackets and before '\\' removes text in brackets\n",
    "df"
   ]
  },
  {
   "cell_type": "code",
   "execution_count": 50,
   "id": "471b3e02",
   "metadata": {},
   "outputs": [
    {
     "data": {
      "text/html": [
       "<div>\n",
       "<style scoped>\n",
       "    .dataframe tbody tr th:only-of-type {\n",
       "        vertical-align: middle;\n",
       "    }\n",
       "\n",
       "    .dataframe tbody tr th {\n",
       "        vertical-align: top;\n",
       "    }\n",
       "\n",
       "    .dataframe thead th {\n",
       "        text-align: right;\n",
       "    }\n",
       "</style>\n",
       "<table border=\"1\" class=\"dataframe\">\n",
       "  <thead>\n",
       "    <tr style=\"text-align: right;\">\n",
       "      <th></th>\n",
       "      <th>sentence</th>\n",
       "      <th>sentence_clean</th>\n",
       "    </tr>\n",
       "  </thead>\n",
       "  <tbody>\n",
       "    <tr>\n",
       "      <th>0</th>\n",
       "      <td>When life gives you lemons, make lemonade! 🙂</td>\n",
       "      <td>when life gives you lemons make lemonade</td>\n",
       "    </tr>\n",
       "    <tr>\n",
       "      <th>1</th>\n",
       "      <td>She bought 2 lemons for $1 at Maven Market.</td>\n",
       "      <td>she bought 2 lemons for 1 at maven market</td>\n",
       "    </tr>\n",
       "    <tr>\n",
       "      <th>2</th>\n",
       "      <td>A dozen lemons will make a gallon of lemonade. [AllRecipes]</td>\n",
       "      <td>a dozen lemons will make a gallon of lemonade</td>\n",
       "    </tr>\n",
       "    <tr>\n",
       "      <th>3</th>\n",
       "      <td>lemon, lemon, lemons, lemon, lemon, lemons</td>\n",
       "      <td>lemon lemon lemons lemon lemon lemons</td>\n",
       "    </tr>\n",
       "    <tr>\n",
       "      <th>4</th>\n",
       "      <td>He's running to the market to get a lemon — there's a great sale today.</td>\n",
       "      <td>hes running to the market to get a lemon  theres a great sale today</td>\n",
       "    </tr>\n",
       "    <tr>\n",
       "      <th>5</th>\n",
       "      <td>Does Maven Market carry Eureka lemons or Meyer lemons?</td>\n",
       "      <td>does maven market carry eureka lemons or meyer lemons</td>\n",
       "    </tr>\n",
       "    <tr>\n",
       "      <th>6</th>\n",
       "      <td>An Arnold Palmer is half lemonade, half iced tea. [Wikipedia]</td>\n",
       "      <td>an arnold palmer is half lemonade half iced tea</td>\n",
       "    </tr>\n",
       "    <tr>\n",
       "      <th>7</th>\n",
       "      <td>iced tea is my favorite</td>\n",
       "      <td>iced tea is my favorite</td>\n",
       "    </tr>\n",
       "  </tbody>\n",
       "</table>\n",
       "</div>"
      ],
      "text/plain": [
       "                                                                  sentence  \\\n",
       "0                             When life gives you lemons, make lemonade! 🙂   \n",
       "1                              She bought 2 lemons for $1 at Maven Market.   \n",
       "2              A dozen lemons will make a gallon of lemonade. [AllRecipes]   \n",
       "3                               lemon, lemon, lemons, lemon, lemon, lemons   \n",
       "4  He's running to the market to get a lemon — there's a great sale today.   \n",
       "5                   Does Maven Market carry Eureka lemons or Meyer lemons?   \n",
       "6            An Arnold Palmer is half lemonade, half iced tea. [Wikipedia]   \n",
       "7                                                  iced tea is my favorite   \n",
       "\n",
       "                                                        sentence_clean  \n",
       "0                            when life gives you lemons make lemonade   \n",
       "1                            she bought 2 lemons for 1 at maven market  \n",
       "2                       a dozen lemons will make a gallon of lemonade   \n",
       "3                                lemon lemon lemons lemon lemon lemons  \n",
       "4  hes running to the market to get a lemon  theres a great sale today  \n",
       "5                does maven market carry eureka lemons or meyer lemons  \n",
       "6                     an arnold palmer is half lemonade half iced tea   \n",
       "7                                              iced tea is my favorite  "
      ]
     },
     "execution_count": 50,
     "metadata": {},
     "output_type": "execute_result"
    }
   ],
   "source": [
    "# remove punctuation\n",
    "df['sentence_clean']=df['sentence_clean'].str.replace(r'[^\\w\\s]','',regex=True) # ^ - not, \\w - word character, \\s - whitespace, spaces, tabs,newlines\n",
    "df"
   ]
  },
  {
   "cell_type": "code",
   "execution_count": 51,
   "id": "19b3b7bd",
   "metadata": {},
   "outputs": [],
   "source": [
    "df['sentence_clean']=df['sentence'].str.lower()\n",
    "df['sentence_clean']=df['sentence_clean'].str.replace(r'\\[.*?\\]','',regex=True) \n",
    "df['sentence_clean']=df['sentence_clean'].str.replace(r'[^\\w\\s]','',regex=True) "
   ]
  },
  {
   "cell_type": "code",
   "execution_count": null,
   "id": "737b5c0d",
   "metadata": {},
   "outputs": [],
   "source": [
    "def lower_replace(series): #column of data #series=pd.Series(test) where test is column text, or series=df['sentence']\n",
    "    output=series.str.lower()\n",
    "    output=output.str.replace(r'\\[.*?\\]','',regex=True) \n",
    "    output=output.str.replace(r'[^\\w\\s]','',regex=True) \n",
    "    return output"
   ]
  },
  {
   "cell_type": "code",
   "execution_count": 53,
   "id": "15d6bd6b",
   "metadata": {},
   "outputs": [
    {
     "data": {
      "text/plain": [
       "0    We're going to start this course with traditional NLP applications.\n",
       "1                               Then we'll move on to modern NLP theory.\n",
       "2            Finally, we'll wrap things up with modern NLP applications.\n",
       "dtype: object"
      ]
     },
     "execution_count": 53,
     "metadata": {},
     "output_type": "execute_result"
    }
   ],
   "source": [
    "test_series"
   ]
  },
  {
   "cell_type": "code",
   "execution_count": null,
   "id": "3ef584a4",
   "metadata": {},
   "outputs": [
    {
     "data": {
      "text/plain": [
       "0                              when life gives you lemons make lemonade \n",
       "1                              she bought 2 lemons for 1 at maven market\n",
       "2                         a dozen lemons will make a gallon of lemonade \n",
       "3                                  lemon lemon lemons lemon lemon lemons\n",
       "4    hes running to the market to get a lemon  theres a great sale today\n",
       "5                  does maven market carry eureka lemons or meyer lemons\n",
       "6                       an arnold palmer is half lemonade half iced tea \n",
       "7                                                iced tea is my favorite\n",
       "Name: sentence, dtype: object"
      ]
     },
     "execution_count": 56,
     "metadata": {},
     "output_type": "execute_result"
    }
   ],
   "source": [
    "lower_replace(test_series)"
   ]
  }
 ],
 "metadata": {
  "kernelspec": {
   "display_name": "nlp_basics (3.13.3)",
   "language": "python",
   "name": "python3"
  },
  "language_info": {
   "codemirror_mode": {
    "name": "ipython",
    "version": 3
   },
   "file_extension": ".py",
   "mimetype": "text/x-python",
   "name": "python",
   "nbconvert_exporter": "python",
   "pygments_lexer": "ipython3",
   "version": "3.13.3"
  }
 },
 "nbformat": 4,
 "nbformat_minor": 5
}
